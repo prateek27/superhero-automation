{
 "cells": [
  {
   "cell_type": "code",
   "execution_count": 6,
   "metadata": {},
   "outputs": [],
   "source": [
    "import pandas as pd\n",
    "import numpy as np"
   ]
  },
  {
   "cell_type": "code",
   "execution_count": 8,
   "metadata": {},
   "outputs": [
    {
     "data": {
      "text/html": [
       "<div>\n",
       "<style scoped>\n",
       "    .dataframe tbody tr th:only-of-type {\n",
       "        vertical-align: middle;\n",
       "    }\n",
       "\n",
       "    .dataframe tbody tr th {\n",
       "        vertical-align: top;\n",
       "    }\n",
       "\n",
       "    .dataframe thead th {\n",
       "        text-align: right;\n",
       "    }\n",
       "</style>\n",
       "<table border=\"1\" class=\"dataframe\">\n",
       "  <thead>\n",
       "    <tr style=\"text-align: right;\">\n",
       "      <th></th>\n",
       "      <th>Timestamp</th>\n",
       "      <th>Email Address</th>\n",
       "      <th>Name</th>\n",
       "      <th>College Name</th>\n",
       "      <th>Superhero Self Check - Things you have done so far as Campus Superhero! 😃</th>\n",
       "      <th>T-Shirt Size</th>\n",
       "      <th>House/Room Number/Floor</th>\n",
       "      <th>Building Name (Hostel/College)</th>\n",
       "      <th>Street Address</th>\n",
       "      <th>Landmark</th>\n",
       "      <th>City</th>\n",
       "      <th>State</th>\n",
       "      <th>PinCode</th>\n",
       "      <th>Mobile Number</th>\n",
       "      <th>Can you collect your Swag Pack form Coding Blocks Pitampura(Delhi)? [Only for Delhi-NCR Superheroes, Fill Yes incase you want to come to the center and meet the team as well :) ]</th>\n",
       "      <th>Approved</th>\n",
       "    </tr>\n",
       "  </thead>\n",
       "  <tbody>\n",
       "    <tr>\n",
       "      <th>0</th>\n",
       "      <td>11/1/2019 18:09:34</td>\n",
       "      <td>harshgoel05@gmail.com</td>\n",
       "      <td>Harsh Goel</td>\n",
       "      <td>SRM INSTITUTE OF SCIENCE AND TECHNOLOGY,KATTAN...</td>\n",
       "      <td>Follwed CB on Youtube, Facebook, Insta, Linked...</td>\n",
       "      <td>S</td>\n",
       "      <td>203</td>\n",
       "      <td>NELSON MANDELA HOSTEL</td>\n",
       "      <td>SRM MENS HOSTEL, SRM UNIVERSITY, SRM NAGAR, PO...</td>\n",
       "      <td>SRM UNIVERSITY, KATTANKULATHUR</td>\n",
       "      <td>Chennai</td>\n",
       "      <td>TAMIL NADU</td>\n",
       "      <td>603203</td>\n",
       "      <td>7519472787</td>\n",
       "      <td>No</td>\n",
       "      <td>yes approved by sneha</td>\n",
       "    </tr>\n",
       "    <tr>\n",
       "      <th>1</th>\n",
       "      <td>11/1/2019 18:10:18</td>\n",
       "      <td>ankush121998@gmail.com</td>\n",
       "      <td>Ankush Sharma</td>\n",
       "      <td>GLA University</td>\n",
       "      <td>Follwed CB on Youtube, Facebook, Insta, Linked...</td>\n",
       "      <td>M</td>\n",
       "      <td>2060, 1st floor</td>\n",
       "      <td>Block F</td>\n",
       "      <td>GLA University</td>\n",
       "      <td>GLA University</td>\n",
       "      <td>Mathura</td>\n",
       "      <td>Uttar Pradesh</td>\n",
       "      <td>281406</td>\n",
       "      <td>7830246980</td>\n",
       "      <td>No</td>\n",
       "      <td>Yes approved by Jatin</td>\n",
       "    </tr>\n",
       "    <tr>\n",
       "      <th>2</th>\n",
       "      <td>11/1/2019 18:10:40</td>\n",
       "      <td>radadiyamohit909@gmail.com</td>\n",
       "      <td>Radadiya Mohit Mukeshbhai</td>\n",
       "      <td>Parul University</td>\n",
       "      <td>Follwed CB on Youtube, Facebook, Insta, Linked...</td>\n",
       "      <td>M</td>\n",
       "      <td>43</td>\n",
       "      <td>NaN</td>\n",
       "      <td>Yamuna darshan society, Mota Varachha</td>\n",
       "      <td>Near yamuna chowk</td>\n",
       "      <td>Surat</td>\n",
       "      <td>Gujarat</td>\n",
       "      <td>394101</td>\n",
       "      <td>8140857649</td>\n",
       "      <td>No</td>\n",
       "      <td>Akshit</td>\n",
       "    </tr>\n",
       "    <tr>\n",
       "      <th>3</th>\n",
       "      <td>11/1/2019 18:10:40</td>\n",
       "      <td>kediapk1916@gmail.com</td>\n",
       "      <td>Prince Agarwal</td>\n",
       "      <td>Amritsar college of engineering and technology</td>\n",
       "      <td>Follwed CB on Youtube, Facebook, Insta, Linked...</td>\n",
       "      <td>M</td>\n",
       "      <td>MIF FLATS A-BLOCK</td>\n",
       "      <td>Sf-161</td>\n",
       "      <td>New Amritsar colony</td>\n",
       "      <td>New Amritsar</td>\n",
       "      <td>Amritsar</td>\n",
       "      <td>Punjab</td>\n",
       "      <td>143001</td>\n",
       "      <td>7790818952</td>\n",
       "      <td>No</td>\n",
       "      <td>yes approved by sneha</td>\n",
       "    </tr>\n",
       "    <tr>\n",
       "      <th>4</th>\n",
       "      <td>11/1/2019 18:11:05</td>\n",
       "      <td>harshitm1234@gmail.com</td>\n",
       "      <td>Harshit Mehndiratta</td>\n",
       "      <td>Upes</td>\n",
       "      <td>Follwed CB on Youtube, Facebook, Insta, Linked...</td>\n",
       "      <td>XL</td>\n",
       "      <td>2nd floor 201</td>\n",
       "      <td>Fylfot House</td>\n",
       "      <td>Kohlupani,Nanda ki chowki near cloud plaza</td>\n",
       "      <td>Cloud Plaza</td>\n",
       "      <td>Dehradun</td>\n",
       "      <td>Uttarakhand</td>\n",
       "      <td>248007</td>\n",
       "      <td>9812163363</td>\n",
       "      <td>No</td>\n",
       "      <td>Yes by jatin</td>\n",
       "    </tr>\n",
       "  </tbody>\n",
       "</table>\n",
       "</div>"
      ],
      "text/plain": [
       "            Timestamp               Email Address                       Name  \\\n",
       "0  11/1/2019 18:09:34       harshgoel05@gmail.com                 Harsh Goel   \n",
       "1  11/1/2019 18:10:18      ankush121998@gmail.com              Ankush Sharma   \n",
       "2  11/1/2019 18:10:40  radadiyamohit909@gmail.com  Radadiya Mohit Mukeshbhai   \n",
       "3  11/1/2019 18:10:40       kediapk1916@gmail.com             Prince Agarwal   \n",
       "4  11/1/2019 18:11:05      harshitm1234@gmail.com        Harshit Mehndiratta   \n",
       "\n",
       "                                        College Name  \\\n",
       "0  SRM INSTITUTE OF SCIENCE AND TECHNOLOGY,KATTAN...   \n",
       "1                                     GLA University   \n",
       "2                                   Parul University   \n",
       "3     Amritsar college of engineering and technology   \n",
       "4                                               Upes   \n",
       "\n",
       "  Superhero Self Check - Things you have done so far as Campus Superhero! 😃  \\\n",
       "0  Follwed CB on Youtube, Facebook, Insta, Linked...                          \n",
       "1  Follwed CB on Youtube, Facebook, Insta, Linked...                          \n",
       "2  Follwed CB on Youtube, Facebook, Insta, Linked...                          \n",
       "3  Follwed CB on Youtube, Facebook, Insta, Linked...                          \n",
       "4  Follwed CB on Youtube, Facebook, Insta, Linked...                          \n",
       "\n",
       "  T-Shirt Size House/Room Number/Floor  Building Name (Hostel/College)  \\\n",
       "0            S                      203          NELSON MANDELA HOSTEL   \n",
       "1            M          2060, 1st floor                        Block F   \n",
       "2            M                       43                            NaN   \n",
       "3            M        MIF FLATS A-BLOCK                         Sf-161   \n",
       "4           XL            2nd floor 201                   Fylfot House   \n",
       "\n",
       "                                      Street Address  \\\n",
       "0  SRM MENS HOSTEL, SRM UNIVERSITY, SRM NAGAR, PO...   \n",
       "1                                     GLA University   \n",
       "2              Yamuna darshan society, Mota Varachha   \n",
       "3                                New Amritsar colony   \n",
       "4         Kohlupani,Nanda ki chowki near cloud plaza   \n",
       "\n",
       "                         Landmark      City          State  PinCode  \\\n",
       "0  SRM UNIVERSITY, KATTANKULATHUR   Chennai     TAMIL NADU   603203   \n",
       "1                  GLA University   Mathura  Uttar Pradesh   281406   \n",
       "2               Near yamuna chowk     Surat        Gujarat   394101   \n",
       "3                    New Amritsar  Amritsar         Punjab   143001   \n",
       "4                     Cloud Plaza  Dehradun    Uttarakhand   248007   \n",
       "\n",
       "  Mobile Number  \\\n",
       "0    7519472787   \n",
       "1    7830246980   \n",
       "2    8140857649   \n",
       "3    7790818952   \n",
       "4    9812163363   \n",
       "\n",
       "  Can you collect your Swag Pack form Coding Blocks Pitampura(Delhi)? [Only for Delhi-NCR Superheroes, Fill Yes incase you want to come to the center and meet the team as well :) ]  \\\n",
       "0                                                 No                                                                                                                                   \n",
       "1                                                 No                                                                                                                                   \n",
       "2                                                 No                                                                                                                                   \n",
       "3                                                 No                                                                                                                                   \n",
       "4                                                 No                                                                                                                                   \n",
       "\n",
       "               Approved   \n",
       "0  yes approved by sneha  \n",
       "1  Yes approved by Jatin  \n",
       "2                 Akshit  \n",
       "3  yes approved by sneha  \n",
       "4           Yes by jatin  "
      ]
     },
     "execution_count": 8,
     "metadata": {},
     "output_type": "execute_result"
    }
   ],
   "source": [
    "data = pd.read_csv('Swag_packs_83.csv')\n",
    "data.head()"
   ]
  },
  {
   "cell_type": "code",
   "execution_count": 10,
   "metadata": {},
   "outputs": [],
   "source": [
    "data = data.values"
   ]
  },
  {
   "cell_type": "code",
   "execution_count": 11,
   "metadata": {},
   "outputs": [
    {
     "name": "stdout",
     "output_type": "stream",
     "text": [
      "['Harsh Goel' 'Ankush Sharma' 'Radadiya Mohit Mukeshbhai' 'Prince Agarwal'\n",
      " 'Harshit Mehndiratta' 'AVANISH SINGHAL' 'Chicklet Rao' 'RUSHANK JAIN'\n",
      " 'Tarun Kumar Dixit' 'T. Yamini Reddy' 'Swapnil Narayan' 'LOVENEESH DHIR'\n",
      " 'Aarushi Singh' 'Rishabh jain' 'Tarun Bhati' 'Rishabh Gupta'\n",
      " 'Abhishek Raj Permani' 'Rithwik Patra' 'Ujjawal Yadav' 'Prachi Nagpure'\n",
      " 'Akshay K. Nihalani' 'Prabhu Sharan Singh' 'Atharva Sharma'\n",
      " 'Peddi Sakila' 'Sailesh Patra' 'Ritam Ghosh' 'Siddharth Aggarwal'\n",
      " 'Utkrisht Agrawal' 'Diksha Asiwal' 'Ashutosh Aneja' 'Shivansh Srivastava'\n",
      " 'Shubham Mittal' 'Ruchika Swain' 'Rhythm Sehgal' 'Logic Gupta' 'Dishebh'\n",
      " 'Rijul Singh malik ' 'Pratik Gupta' 'Suprateek Chatterjee'\n",
      " 'Suyash Deshpande' 'Tarun Luthra' 'Namit Doshi' 'Aditya Raj'\n",
      " 'Vishesh Kumar Jain' 'Prabhman Singh Khanuja' 'Tarun Dhamor'\n",
      " 'Parjanya Aditya Shukla' 'Abhinash Sivan' 'Khushboo Verma ' 'Gautam Jain'\n",
      " 'Tushar Mahajan' 'Aastha Narang' 'Ayush Bansal' 'Gunjan' 'Sarthak kundra'\n",
      " 'Nirbhay Vashisht' 'Prakash Swaroop Vinayak' 'Piyush Katariya'\n",
      " 'Deepjyoti Roy' 'Abhinav Jha' 'Vaishnav Mohan' 'Nikhil Varshney'\n",
      " 'Nakul Mehra' 'Shivam Bansal' 'Paras jain' 'Aman Agarwal'\n",
      " 'Abhishek Srivastava' 'MAYANK TYAGI' 'Nishtha Bhatia' 'APOORVEE SINHA'\n",
      " 'Nikhil tiwari' 'Vaibhav' 'Honey Agrawal' 'Adarsh Singh' 'Vidhi Dixit'\n",
      " 'Abhishek Goyal' 'Daksh Sardana' 'Shivam Mani Tripathi' 'Naman Khurana'\n",
      " 'Jayshree Phulare' 'Mayank Goyal' 'Sanyam Agarwal']\n"
     ]
    }
   ],
   "source": [
    "names = data[:,2]\n",
    "print(names)"
   ]
  },
  {
   "cell_type": "code",
   "execution_count": 24,
   "metadata": {},
   "outputs": [
    {
     "data": {
      "text/plain": [
       "array(['No', 'No', 'No', 'No', 'No', 'No', 'No', 'No', 'No', 'No', 'No',\n",
       "       'No', 'No', 'No', 'No', 'No', 'No', 'Yes', 'No', 'No', 'No', 'Yes',\n",
       "       'No', 'No', 'No', 'No', 'No', 'No', 'No', 'No', 'No', 'No', 'No',\n",
       "       'No', 'No', 'No', 'Yes', 'No', 'No', 'No', 'Yes', 'No', 'No', 'No',\n",
       "       'No', 'No', 'No', 'No', 'No', 'No', 'No', 'No', 'No', 'No', 'No',\n",
       "       'No', 'No', 'Yes', 'No', 'Yes', 'No', 'No', 'Yes', 'No', 'No',\n",
       "       'No', 'No', 'No', 'No', 'No', 'No', 'Yes', 'No', 'Yes', 'No', 'No',\n",
       "       'No', 'Yes', 'Yes', 'No', 'No', 'No'], dtype=object)"
      ]
     },
     "execution_count": 24,
     "metadata": {},
     "output_type": "execute_result"
    }
   ],
   "source": [
    "phones"
   ]
  },
  {
   "cell_type": "code",
   "execution_count": 44,
   "metadata": {},
   "outputs": [
    {
     "name": "stdout",
     "output_type": "stream",
     "text": [
      "Ship To\n",
      "Harsh Goel (T-Shirt Size S)\n",
      "Address : 203\n",
      "NELSON MANDELA HOSTEL\n",
      "SRM MENS HOSTEL, SRM UNIVERSITY, SRM NAGAR, POTHERI, KATTANKULATHUR, CHENNAI, TAMIL NADU, 603203 contact number:7519472787, 6204328606\n",
      "SRM UNIVERSITY, KATTANKULATHUR\n",
      "Chennai\n",
      "TAMIL NADU\n",
      "603203\n",
      "\n",
      "Phone 7519472787\n"
     ]
    }
   ],
   "source": [
    "addresses = data[:,6:13]\n",
    "phones = data[:,-3]\n",
    "t_shirt_size = data[:,5]\n",
    "\n",
    "\n",
    "\n",
    "def extract_details(name,add,phone,size):\n",
    "    \n",
    "    temp  = [str(x) for x in add]\n",
    "    temp = '\\n'.join(temp)\n",
    "    \n",
    "    temp = \"Address : \" + temp + '\\n'\n",
    "    phone = \"Phone \" + phone \n",
    "    name = name + \" (T-Shirt Size \"+ size + \")\"\n",
    "    \n",
    "    l = [\"Ship To\",name,temp,phone]\n",
    "    return '\\n'.join(l)\n",
    "\n",
    "\n",
    "\n",
    "for i in range(data.shape[0]):\n",
    "    x = extract_details(names[i],addresses[i],phones[i],t_shirt_size[i])\n",
    "    print(x)\n",
    "    break\n"
   ]
  },
  {
   "cell_type": "code",
   "execution_count": null,
   "metadata": {},
   "outputs": [],
   "source": []
  },
  {
   "cell_type": "code",
   "execution_count": null,
   "metadata": {},
   "outputs": [],
   "source": []
  },
  {
   "cell_type": "code",
   "execution_count": null,
   "metadata": {},
   "outputs": [],
   "source": []
  },
  {
   "cell_type": "code",
   "execution_count": 45,
   "metadata": {},
   "outputs": [],
   "source": [
    "from PIL import Image, ImageDraw, ImageFont\n",
    "import matplotlib.pyplot as plt"
   ]
  },
  {
   "cell_type": "code",
   "execution_count": 51,
   "metadata": {},
   "outputs": [],
   "source": [
    "def createSlip(description):\n",
    "    base = Image.open('slip.jpg').convert('RGBA')\n",
    "    txt = Image.new('RGBA', base.size, (255,255,255,1))\n",
    "    font = ImageFont.truetype(\"arial.ttf\",40)\n",
    "    d = ImageDraw.Draw(txt)\n",
    "    d.text((60,60), description, font=font,fill=(0,0,0,255))\n",
    "    out = Image.alpha_composite(base, txt)\n",
    "    \n",
    "    out = np.asarray(out)\n",
    "    #top_border = np.ones((out.shape[1],40,3))\n",
    "    \n",
    "    #combined = np.vstack((top_border,out))\n",
    "    return out\n",
    "    return r"
   ]
  },
  {
   "cell_type": "code",
   "execution_count": 53,
   "metadata": {},
   "outputs": [
    {
     "data": {
      "text/plain": [
       "<matplotlib.image.AxesImage at 0x26f54e10dd8>"
      ]
     },
     "execution_count": 53,
     "metadata": {},
     "output_type": "execute_result"
    },
    {
     "data": {
      "image/png": "[encoded data removed]",
      "text/plain": [
       "<Figure size 432x288 with 1 Axes>"
      ]
     },
     "metadata": {
      "needs_background": "light"
     },
     "output_type": "display_data"
    }
   ],
   "source": [
    "x = extract_details(names[1],addresses[1],phones[1],t_shirt_size[1])\n",
    "out = createSlip(x)\n",
    "plt.imshow(out)"
   ]
  },
  {
   "cell_type": "code",
   "execution_count": 60,
   "metadata": {},
   "outputs": [],
   "source": [
    "start_row = 0\n",
    "end_row = data.shape[0]\n",
    "\n",
    "sheet = None\n",
    "cnt = 0 \n",
    "sheet_rows  = [ ]\n",
    "sheet_cnt  = 1\n",
    "\n",
    "for i in range(start_row,end_row,2):\n",
    "    desc = extract_details(names[i],addresses[i],phones[i],t_shirt_size[i])\n",
    "    slip1 = createSlip(desc)\n",
    "    if i <end_row-1:\n",
    "        desc = extract_details(names[i+1],addresses[i+1],phones[i+1],t_shirt_size[i+1])\n",
    "        slip2 = createSlip(desc)\n",
    "    else:\n",
    "        #Create a Blank Slip\n",
    "        slip2 = np.ones((slip1.shape),dtype=slip1.dtype)*255\n",
    "    \n",
    "    current_row = np.hstack((slip1,slip2))\n",
    "    sheet_rows.append(current_row)\n",
    "    cnt +=1 \n",
    "    \n",
    "    if cnt==6:\n",
    "        sheet = np.vstack(sheet_rows)\n",
    "        #plt.imshow(sheet)\n",
    "        #plt.show()\n",
    "        #sheet = np.pad(a, ((30,30), (30,30), (0, 0)),mode='constant', constant_values=255) \n",
    "        im = Image.fromarray(sheet)\n",
    "        im.save(\"sheet_\"+str(sheet_cnt)+\".png\")\n",
    "        sheet_cnt += 1\n",
    "        sheet_rows = []\n",
    "        cnt = 0\n",
    "        sheet = None\n",
    "    "
   ]
  },
  {
   "cell_type": "code",
   "execution_count": 61,
   "metadata": {},
   "outputs": [
    {
     "data": {
      "image/png": "[encoded data removed]",
      "text/plain": [
       "<Figure size 432x288 with 1 Axes>"
      ]
     },
     "metadata": {
      "needs_background": "light"
     },
     "output_type": "display_data"
    }
   ],
   "source": [
    "plt.imshow(sheet_rows[0])\n",
    "plt.show()"
   ]
  },
  {
   "cell_type": "code",
   "execution_count": 62,
   "metadata": {},
   "outputs": [],
   "source": [
    "if len(sheet_rows)==1:\n",
    "    im = Image.fromarray(np.array(sheet_rows[0]))\n",
    "    im.save(\"sheet_\"+str(sheet_cnt)+\".png\")\n",
    "else:\n",
    "    sheet = np.vstack(sheet_rows)\n",
    "    im = Image.fromarray(sheet)\n",
    "    im.save(\"sheet_\"+str(sheet_cnt)+\".png\")\n",
    "    \n",
    "    "
   ]
  },
  {
   "cell_type": "code",
   "execution_count": null,
   "metadata": {},
   "outputs": [],
   "source": []
  },
  {
   "cell_type": "code",
   "execution_count": null,
   "metadata": {},
   "outputs": [],
   "source": []
  }
 ],
 "metadata": {
  "kernelspec": {
   "display_name": "Python 3",
   "language": "python",
   "name": "python3"
  },
  "language_info": {
   "codemirror_mode": {
    "name": "ipython",
    "version": 3
   },
   "file_extension": ".py",
   "mimetype": "text/x-python",
   "name": "python",
   "nbconvert_exporter": "python",
   "pygments_lexer": "ipython3",
   "version": "3.7.3"
  }
 },
 "nbformat": 4,
 "nbformat_minor": 2
}
